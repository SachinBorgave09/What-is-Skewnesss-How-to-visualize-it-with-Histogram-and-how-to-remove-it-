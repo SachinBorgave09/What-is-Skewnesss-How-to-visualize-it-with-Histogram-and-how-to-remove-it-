{
  "nbformat": 4,
  "nbformat_minor": 0,
  "metadata": {
    "colab": {
      "name": "Skewness.ipynb",
      "provenance": [],
      "collapsed_sections": []
    },
    "kernelspec": {
      "name": "python3",
      "display_name": "Python 3"
    }
  },
  "cells": [
    {
      "cell_type": "markdown",
      "metadata": {
        "id": "JGavazyVsrgU",
        "colab_type": "text"
      },
      "source": [
        "## **What is Skewnesss? How to visualize it with Histogram and how to remove it?**\n",
        "Skewness is a measure of the asymmetry in a variable. It can be positive (right skewed), negative (left skewed), and zero. Ideally there should be zero skewness in a variable. Larger the skewness, greater the number of outliers in a variable.</br>\n"
      ]
    },
    {
      "cell_type": "markdown",
      "metadata": {
        "id": "G8h_Jbx0tNTg",
        "colab_type": "text"
      },
      "source": [
        "**How to remove skewness from variables?**\n",
        "\n",
        "Our aim should be to have near zero skewness in our variables in the dataset. Taking log of the skewed variable helps a lot in decreasing the skewness. So, lets see how to do that?\n",
        "\n",
        "Consider a [Load Prediction](https://datahack.analyticsvidhya.com/contest/practice-problem-loan-prediction-iii/)Load Prediction dataset. We will analyze skewness of LoanAmount variable."
      ]
    },
    {
      "cell_type": "code",
      "metadata": {
        "id": "O_UFQf112IDA",
        "colab_type": "code",
        "colab": {}
      },
      "source": [
        "#Step 1: Import the required libraries\n",
        "\n",
        "import pandas as pd\n",
        "import numpy as np\n",
        "import matplotlib as plt\n",
        "%matplotlib inline\n",
        "import seaborn as sns"
      ],
      "execution_count": 0,
      "outputs": []
    },
    {
      "cell_type": "code",
      "metadata": {
        "id": "0sPSkGZQ2NyY",
        "colab_type": "code",
        "outputId": "b4559b73-c26c-43d1-fc81-8b111f28a51b",
        "colab": {
          "base_uri": "https://localhost:8080/",
          "height": 288
        }
      },
      "source": [
        "#Step 2: Load the dataset\n",
        "\n",
        "dataset = pd.read_csv(\"/content/drive/My Drive/Colab Notebooks/EDA/Dataset/Skewness_train.csv\")\n",
        "\n",
        "#Step 3: Draw histogram of LoanAmount variable with 20 bins\n",
        "\n",
        "dataset['LoanAmount'].hist(bins=20)"
      ],
      "execution_count": 0,
      "outputs": [
        {
          "output_type": "execute_result",
          "data": {
            "text/plain": [
              "<matplotlib.axes._subplots.AxesSubplot at 0x7fbac274bd68>"
            ]
          },
          "metadata": {
            "tags": []
          },
          "execution_count": 2
        },
        {
          "output_type": "display_data",
          "data": {
            "image/png": "[encoded data removed]",
            "text/plain": [
              "<Figure size 432x288 with 1 Axes>"
            ]
          },
          "metadata": {
            "tags": []
          }
        }
      ]
    },
    {
      "cell_type": "code",
      "metadata": {
        "id": "6kwQ_6692QzB",
        "colab_type": "code",
        "outputId": "3057bba6-a78d-487b-8cc2-db536a3fd30d",
        "colab": {
          "base_uri": "https://localhost:8080/",
          "height": 288
        }
      },
      "source": [
        "#Step 4: Create a new variable by taking log of LoanAmount variable\n",
        "\n",
        "dataset['LoanAmount_Log'] = np.log(dataset['LoanAmount'])\n",
        "\n",
        "#Step 5: Draw histogram of newly created variable\n",
        "\n",
        "dataset['LoanAmount_Log'].hist(bins=20)"
      ],
      "execution_count": 0,
      "outputs": [
        {
          "output_type": "execute_result",
          "data": {
            "text/plain": [
              "<matplotlib.axes._subplots.AxesSubplot at 0x7fbabfdf25f8>"
            ]
          },
          "metadata": {
            "tags": []
          },
          "execution_count": 3
        },
        {
          "output_type": "display_data",
          "data": {
            "image/png": "[encoded data removed]",
            "text/plain": [
              "<Figure size 432x288 with 1 Axes>"
            ]
          },
          "metadata": {
            "tags": []
          }
        }
      ]
    },
    {
      "cell_type": "markdown",
      "metadata": {
        "id": "LpCCOJPltviG",
        "colab_type": "text"
      },
      "source": [
        "We can see that distribution of the values in the **LoanAmount_Log** variable is normal and symmetrical and skewness is near to zero. In this way, you should check skewness of all the variables and remove it."
      ]
    }
  ]
}